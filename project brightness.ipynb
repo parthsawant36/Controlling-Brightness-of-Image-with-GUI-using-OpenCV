
{
 "cells": [
  {
   "cell_type": "code",
   "execution_count": 3,
   "id": "ad08e029-7d63-41eb-b321-496250df6821",
   "metadata": {},
   "outputs": [],
   "source": [
    #debugging and code by Parth Sawant
    "import cv2 as cv \n",
    "import numpy as np "
   ]
  },
  {
   "cell_type": "code",
   "execution_count": 5,
   "id": "4feba01c-9ca0-48fb-9324-dc472a2087db",
   "metadata": {},
   "outputs": [],
   "source": [
    "img = cv.imread(\"./images/car.jpg\")"
   ]
  },
  {
   "cell_type": "code",
   "execution_count": 7,
   "id": "b602ac03-5346-4da9-97ac-9b9a5caf84a3",
   "metadata": {},
   "outputs": [],
   "source": [
    "cv.imshow(\"Og\" , img)\n",
    "cv.waitKey(10000)\n",
    "cv.destroyAllWindows()"
   ]
  },
  {
   "cell_type": "code",
   "execution_count": 9,
   "id": "91571e0b-d1ea-4e9e-8888-47fbd73c40af",
   "metadata": {},
   "outputs": [],
   "source": [
    "def nothing(x) :\n",
    "    pass\n",
    "\n",
    "cv.namedWindow(\"Brightness Controller\")\n",
    "\n",
    "bright = cv.createTrackbar(\"Brightness\" , \"Brightness Controller\" , 75 , 255 , nothing)\n",
    "value = np.ones_like(img , dtype = \"uint8\")\n",
    "\n",
    "while True :\n",
    "    bright = cv.getTrackbarPos(\"Brightness\" , \"Brightness Controller\")\n",
    "    bar = bright - 127\n",
    "\n",
    "    if bar>=0 :\n",
    "        value = np.ones_like(img , dtype = \"uint8\")*bar\n",
    "        img_ctrl = cv.add(img , value)\n",
    "\n",
    "    else :\n",
    "        bright = 127 - bright\n",
    "        value = value = np.ones_like(img , dtype = \"uint8\")*bright\n",
    "        img_ctrl = cv.subtract(img,value)\n",
    "\n",
    "    cv.imshow(\"Brightness Controller\" , img_ctrl)\n",
    "\n",
    "    if cv.waitKey(1) == 27 :\n",
    "        break\n",
    "        \n",
    "cv.destroyAllWindows()"
   ]
  },
  {
   "cell_type": "code",
   "execution_count": null,
   "id": "cda75830-8ad3-43ed-8094-187ff629d3e7",
   "metadata": {},
   "outputs": [],
   "source": []
  }
 ],
 "metadata": {
  "kernelspec": {
   "display_name": "Python 3 (ipykernel)",
   "language": "python",
   "name": "python3"
  },
  "language_info": {
   "codemirror_mode": {
    "name": "ipython",
    "version": 3
   },
   "file_extension": ".py",
   "mimetype": "text/x-python",
   "name": "python",
   "nbconvert_exporter": "python",
   "pygments_lexer": "ipython3",
   "version": "3.12.4"
  }
 },
 "nbformat": 4,
 "nbformat_minor": 5
}
