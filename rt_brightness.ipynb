{
 "cells": [
  {
   "cell_type": "code",
   "execution_count": 11,
   "id": "83a66ef9-2a9c-427e-821f-99a2e792e3b3",
   "metadata": {},
   "outputs": [],
   "source": [
    "import cv2 as cv\n",
    "import numpy as np\n",
    "img = (\"./images/bird.jpg\")"
   ]
  },
  {
   "cell_type": "code",
   "execution_count": 13,
   "id": "173184d5-16a0-435d-a8ca-04632bccd689",
   "metadata": {},
   "outputs": [],
   "source": [
    "def brightness_ctrl(image,bright):\n",
    "    bar = bright - 127\n",
    "    \n",
    "    if bar >=0:\n",
    "        value = np.ones_like(image,dtype='uint8')*bar\n",
    "        img_ctrl = cv.add(image,value)\n",
    "        \n",
    "    else:\n",
    "        bright = 127 - bright\n",
    "        value = np.ones_like(image,dtype='uint8')*bright\n",
    "        img_ctrl = cv.subtract(image,value)\n",
    "        \n",
    "    return img_ctrl"
   ]
  },
  {
   "cell_type": "code",
   "execution_count": 19,
   "id": "339ca3fe-7d1c-49af-b2f6-65c0f9be905b",
   "metadata": {},
   "outputs": [],
   "source": [
    "def nothing(x) :\n",
    "    pass"
   ]
  },
  {
   "cell_type": "code",
   "execution_count": 21,
   "id": "d888f3c5-ef7b-4261-9468-a575181be975",
   "metadata": {},
   "outputs": [],
   "source": [
    "cap = cv.VideoCapture('./images/clip.mp4')\n",
    "cv.namedWindow('Brightness Control')\n",
    "bright = cv.createTrackbar('Brightness','Brightness Control',75,255,nothing)\n",
    "value = np.ones_like(img,dtype='uint8')\n",
    "\n",
    "while True:\n",
    "    ret, frame = cap.read()\n",
    "    if ret == False:\n",
    "        break\n",
    "        \n",
    "    bright = cv.getTrackbarPos('Brightness','Brightness Control')\n",
    "    img_ctrl = brightness_ctrl(frame,bright)\n",
    "    \n",
    "    cv.imshow('Brightness Control',img_ctrl)\n",
    "    if cv.waitKey(20) == 27:\n",
    "        break\n",
    "        \n",
    "cv.destroyAllWindows()\n",
    "cap.release()"
   ]
  },
  {
   "cell_type": "code",
   "execution_count": 9,
   "id": "63c11813-ee88-4d0f-bc6a-65dac93f4a8c",
   "metadata": {},
   "outputs": [
    {
     "ename": "NameError",
     "evalue": "name 'cv2' is not defined",
     "output_type": "error",
     "traceback": [
      "\u001b[1;31m---------------------------------------------------------------------------\u001b[0m",
      "\u001b[1;31mNameError\u001b[0m                                 Traceback (most recent call last)",
      "Cell \u001b[1;32mIn[9], line 1\u001b[0m\n\u001b[1;32m----> 1\u001b[0m cap \u001b[38;5;241m=\u001b[39m \u001b[43mcv2\u001b[49m\u001b[38;5;241m.\u001b[39mVideoCapture(\u001b[38;5;124m'\u001b[39m\u001b[38;5;124m./images/clip.mp4\u001b[39m\u001b[38;5;124m'\u001b[39m)\n\u001b[0;32m      2\u001b[0m cv2\u001b[38;5;241m.\u001b[39mnamedWindow(\u001b[38;5;124m'\u001b[39m\u001b[38;5;124mBrightness Control\u001b[39m\u001b[38;5;124m'\u001b[39m)\n\u001b[0;32m      3\u001b[0m bright \u001b[38;5;241m=\u001b[39m cv2\u001b[38;5;241m.\u001b[39mcreateTrackbar(\u001b[38;5;124m'\u001b[39m\u001b[38;5;124mBrightness\u001b[39m\u001b[38;5;124m'\u001b[39m,\u001b[38;5;124m'\u001b[39m\u001b[38;5;124mBrightness Control\u001b[39m\u001b[38;5;124m'\u001b[39m,\u001b[38;5;241m75\u001b[39m,\u001b[38;5;241m255\u001b[39m,nothing)\n",
      "\u001b[1;31mNameError\u001b[0m: name 'cv2' is not defined"
     ]
    }
   ],
   "source": []
  },
  {
   "cell_type": "code",
   "execution_count": null,
   "id": "8cbe2fde-ae92-4d48-bf81-5ca85c6b021d",
   "metadata": {},
   "outputs": [],
   "source": []
  },
  {
   "cell_type": "code",
   "execution_count": null,
   "id": "86f43aac-4c09-491a-9276-07615fe8e69b",
   "metadata": {},
   "outputs": [],
   "source": []
  }
 ],
 "metadata": {
  "kernelspec": {
   "display_name": "Python 3 (ipykernel)",
   "language": "python",
   "name": "python3"
  },
  "language_info": {
   "codemirror_mode": {
    "name": "ipython",
    "version": 3
   },
   "file_extension": ".py",
   "mimetype": "text/x-python",
   "name": "python",
   "nbconvert_exporter": "python",
   "pygments_lexer": "ipython3",
   "version": "3.12.4"
  }
 },
 "nbformat": 4,
 "nbformat_minor": 5
}
